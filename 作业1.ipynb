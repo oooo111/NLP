{
 "cells": [
  {
   "cell_type": "code",
   "execution_count": 7,
   "id": "84329d5d",
   "metadata": {},
   "outputs": [
    {
     "name": "stderr",
     "output_type": "stream",
     "text": [
      "[nltk_data] Downloading package stopwords to\n",
      "[nltk_data]     C:\\Users\\24596\\AppData\\Roaming\\nltk_data...\n",
      "[nltk_data]   Package stopwords is already up-to-date!\n",
      "[nltk_data] Downloading package punkt to\n",
      "[nltk_data]     C:\\Users\\24596\\AppData\\Roaming\\nltk_data...\n",
      "[nltk_data]   Package punkt is already up-to-date!\n",
      "[nltk_data] Downloading package averaged_perceptron_tagger to\n",
      "[nltk_data]     C:\\Users\\24596\\AppData\\Roaming\\nltk_data...\n",
      "[nltk_data]   Package averaged_perceptron_tagger is already up-to-\n",
      "[nltk_data]       date!\n",
      "[nltk_data] Downloading package wordnet to\n",
      "[nltk_data]     C:\\Users\\24596\\AppData\\Roaming\\nltk_data...\n",
      "[nltk_data]   Package wordnet is already up-to-date!\n"
     ]
    }
   ],
   "source": [
    "import pandas as pd\n",
    "import os\n",
    "import os.path\n",
    "import re\n",
    "import sys\n",
    "import codecs\n",
    "import pandas as pd\n",
    "import string\n",
    "import matplotlib.pyplot as plt\n",
    "%matplotlib inline\n",
    "import seaborn as sns\n",
    "import warnings\n",
    "warnings.filterwarnings('ignore', category=UserWarning, module='bs4')\n",
    "import numpy as np # linear algebra\n",
    "import pandas as pd\n",
    "from bs4 import BeautifulSoup\n",
    "import re\n",
    "from tqdm import tqdm\n",
    "from nltk.corpus import stopwords\n",
    "from nltk.tokenize import word_tokenize\n",
    "from nltk.stem import WordNetLemmatizer\n",
    "import nltk\n",
    "nltk.download('stopwords')\n",
    "nltk.download('punkt')\n",
    "nltk.download('averaged_perceptron_tagger')\n",
    "nltk.download('wordnet')\n",
    "from nltk.corpus import stopwords, wordnet\n",
    "from nltk.stem import WordNetLemmatizer\n",
    "from nltk.tokenize import word_tokenize\n",
    "from nltk.probability import FreqDist"
   ]
  },
  {
   "cell_type": "code",
   "execution_count": 14,
   "id": "609bac3f",
   "metadata": {},
   "outputs": [],
   "source": [
    "df = pd.read_json(\"data_train.json\",encoding=\"utf-8\", orient='records',lines=True)\n",
    "df=df.iloc[:1000,:]"
   ]
  },
  {
   "cell_type": "markdown",
   "id": "7324ace9",
   "metadata": {},
   "source": [
    "### 预处理"
   ]
  },
  {
   "cell_type": "code",
   "execution_count": 16,
   "id": "350fc946",
   "metadata": {},
   "outputs": [],
   "source": [
    "lemmatizer = WordNetLemmatizer()\n",
    "#删除url 统一资源定位符\n",
    "def rmURL(line):\n",
    "    import re\n",
    "    pattern = re.compile(r'http[a-zA-Z0-9.?/&=:]*')\n",
    "    return pattern.sub('', line.strip())\n",
    "\n",
    "# 去非中文、英文、数字字符， 如表情，小语种字符\n",
    "def rmUNK(line):\n",
    "    import re\n",
    "    pattern = re.compile(u'[^0-9a-zA-Z\\u4e00-\\u9fa5.，,。？“”]+', re.UNICODE)\n",
    "    return pattern.sub('', line.strip())\n",
    "\n",
    "##### 去除html标签\n",
    "def remove_html(text):\n",
    "    html = re.compile(r'<.*?>|&([a-z0-9]+|#[0-9]{1,6}|#x[0-9a-f]{1,6});')\n",
    "    return re.sub(html, '', text)\n",
    "\n",
    "#### 删除标点符号\n",
    "from string import punctuation\n",
    "def remove_punc(text):\n",
    "    dicts={i:'' for i in punctuation}\n",
    "    punc_table=str.maketrans(dicts)\n",
    "    new_s=text.translate(punc_table)\n",
    "    return new_s"
   ]
  },
  {
   "cell_type": "markdown",
   "id": "3ce4bf64",
   "metadata": {},
   "source": [
    "### 文本清洗函数"
   ]
  },
  {
   "cell_type": "code",
   "execution_count": 17,
   "id": "cd062569",
   "metadata": {},
   "outputs": [],
   "source": [
    "df[\"text_clean\"]=df[\"fact\"].apply(lambda x:rmURL(x))\n",
    "df[\"text_clean\"]=df[\"text_clean\"].apply(lambda x:rmUNK(x))\n",
    "df[\"text_clean\"]=df[\"text_clean\"].apply(lambda x:remove_html(x))"
   ]
  },
  {
   "cell_type": "markdown",
   "id": "8d34a911",
   "metadata": {},
   "source": [
    "### jieba分词"
   ]
  },
  {
   "cell_type": "code",
   "execution_count": 18,
   "id": "94717566",
   "metadata": {},
   "outputs": [],
   "source": [
    "import jieba\n",
    "def split_word(s):\n",
    "    seg=jieba.cut(s,cut_all=False)\n",
    "    return \",\".join(seg)\n",
    "df[\"split_text\"]=df[\"text_clean\"].apply(lambda x : split_word(x))"
   ]
  },
  {
   "cell_type": "markdown",
   "id": "f5cdd75d",
   "metadata": {},
   "source": [
    "### 词性标记"
   ]
  },
  {
   "cell_type": "code",
   "execution_count": null,
   "id": "de101cdb",
   "metadata": {},
   "outputs": [],
   "source": [
    "def pos_tag(s):\n",
    "    list=[]\n",
    "    HanLP = HanLPClient('https://www.hanlp.com/api', auth=None, language='zh')\n",
    "    sentence=HanLP.parse(s, tasks='pos/ctb')\n",
    "    for i in zip(a['tok/fine'][0],a['pos/ctb'][0]):\n",
    "        list.append(i)\n",
    "    return list\n",
    "df[\"pos_tag\"]=df[\"text_clean\"].apply(lambda x : pos_tag(x))"
   ]
  },
  {
   "cell_type": "markdown",
   "id": "31fcb521",
   "metadata": {},
   "source": [
    "### 计算前10个分词重合率"
   ]
  },
  {
   "cell_type": "code",
   "execution_count": 37,
   "id": "4ff55ca8",
   "metadata": {},
   "outputs": [
    {
     "data": {
      "text/plain": [
       "[(',', 156),\n",
       " ('，', 14),\n",
       " ('某', 14),\n",
       " ('段', 7),\n",
       " ('王', 7),\n",
       " ('人', 6),\n",
       " ('2', 5),\n",
       " ('1', 5),\n",
       " ('被', 5),\n",
       " ('车', 5)]"
      ]
     },
     "execution_count": 37,
     "metadata": {},
     "output_type": "execute_result"
    }
   ],
   "source": [
    "import collections  \n",
    "word_counts = collections.Counter(df[\"split_text\"][0])  # 对分词做词频统计\n",
    "word_counts_top = word_counts.most_common(10)  # 获取前10个最高频的词\n",
    "def repeat_rate(s):\n",
    "    count=[]\n",
    "    res=[]\n",
    "    for i in word_counts_top:\n",
    "        count.append(i[1])\n",
    "    for i in word_counts_top:\n",
    "        res.append(i[1]/(sum(count)))\n",
    "    return res\n",
    "repeat_rate(word_counts_top)"
   ]
  },
  {
   "cell_type": "markdown",
   "id": "f6a0dc75",
   "metadata": {},
   "source": [
    "###  绘制分布图"
   ]
  },
  {
   "cell_type": "code",
   "execution_count": 48,
   "id": "34f61d67",
   "metadata": {},
   "outputs": [
    {
     "data": {
      "text/plain": [
       "<AxesSubplot:xlabel='character', ylabel='number'>"
      ]
     },
     "execution_count": 48,
     "metadata": {},
     "output_type": "execute_result"
    },
    {
     "data": {
      "image/png": "[encoded data removed]",
      "text/plain": [
       "<Figure size 432x288 with 1 Axes>"
      ]
     },
     "metadata": {},
     "output_type": "display_data"
    }
   ],
   "source": [
    "import seaborn as sns\n",
    "rc = {'font.sans-serif': 'SimHei',\n",
    "      'axes.unicode_minus': False}\n",
    "sns.set(context='notebook', style='ticks', rc=rc)\n",
    "def plot_repeat(s):\n",
    "    df1=pd.DataFrame()\n",
    "    character,number=[],[]\n",
    "    for i in s:\n",
    "        character.append(i[0])\n",
    "        number.append(i[1])\n",
    "    df1[\"character\"]=character\n",
    "    df1[\"number\"]=number\n",
    "    return sns.barplot(data=df1, x=\"character\", y=\"number\")\n",
    "\n",
    "plot_repeat(word_counts_top)"
   ]
  },
  {
   "cell_type": "markdown",
   "id": "66ce793f",
   "metadata": {},
   "source": [
    "### 计算交叉熵"
   ]
  },
  {
   "cell_type": "code",
   "execution_count": 49,
   "id": "e780ec58",
   "metadata": {},
   "outputs": [
    {
     "data": {
      "text/html": [
       "<div>\n",
       "<style scoped>\n",
       "    .dataframe tbody tr th:only-of-type {\n",
       "        vertical-align: middle;\n",
       "    }\n",
       "\n",
       "    .dataframe tbody tr th {\n",
       "        vertical-align: top;\n",
       "    }\n",
       "\n",
       "    .dataframe thead th {\n",
       "        text-align: right;\n",
       "    }\n",
       "</style>\n",
       "<table border=\"1\" class=\"dataframe\">\n",
       "  <thead>\n",
       "    <tr style=\"text-align: right;\">\n",
       "      <th></th>\n",
       "      <th>fact</th>\n",
       "      <th>meta</th>\n",
       "      <th>text_clean</th>\n",
       "      <th>split_text</th>\n",
       "    </tr>\n",
       "  </thead>\n",
       "  <tbody>\n",
       "    <tr>\n",
       "      <th>0</th>\n",
       "      <td>昌宁县人民检察院指控，2014年4月19日下午16时许，被告人段某驾拖车经过鸡飞乡澡塘街子，...</td>\n",
       "      <td>{'relevant_articles': [234], 'accusation': ['故...</td>\n",
       "      <td>昌宁县人民检察院指控，2014年4月19日下午16时许，被告人段某驾拖车经过鸡飞乡澡塘街子，...</td>\n",
       "      <td>昌宁县,人民检察院,指控,，,2014,年,4,月,19,日,下午,16,时许,，,被告人,...</td>\n",
       "    </tr>\n",
       "    <tr>\n",
       "      <th>1</th>\n",
       "      <td>公诉机关指控,2015年11月10日晚9时许，被告人李某的妹妹李某某与被害人华某某在桦川县悦...</td>\n",
       "      <td>{'relevant_articles': [234], 'accusation': ['故...</td>\n",
       "      <td>公诉机关指控,2015年11月10日晚9时许，被告人李某的妹妹李某某与被害人华某某在桦川县悦...</td>\n",
       "      <td>公诉,机关,指控,,,2015,年,11,月,10,日晚,9,时许,，,被告人,李某,的,妹...</td>\n",
       "    </tr>\n",
       "    <tr>\n",
       "      <th>2</th>\n",
       "      <td>贵州省平坝县人民检察院指控：2014年4月9日下午，被告人王某丁与其堂哥王4某（另案处理）假...</td>\n",
       "      <td>{'relevant_articles': [292, 234], 'accusation'...</td>\n",
       "      <td>贵州省平坝县人民检察院指控2014年4月9日下午，被告人王某丁与其堂哥王4某另案处理假释驾驶...</td>\n",
       "      <td>贵州省,平坝县,人民检察院,指控,2014,年,4,月,9,日,下午,，,被告人,王某,丁,...</td>\n",
       "    </tr>\n",
       "    <tr>\n",
       "      <th>3</th>\n",
       "      <td>经审理查明：2014年5月6日14时许，被告人叶某某驾车途径赤壁市赵李桥镇胜利街涵洞时，被在...</td>\n",
       "      <td>{'relevant_articles': [234], 'accusation': ['故...</td>\n",
       "      <td>经审理查明2014年5月6日14时许，被告人叶某某驾车途径赤壁市赵李桥镇胜利街涵洞时，被在此...</td>\n",
       "      <td>经,审理,查明,2014,年,5,月,6,日,14,时许,，,被告人,叶,某某,驾车,途径,...</td>\n",
       "    </tr>\n",
       "    <tr>\n",
       "      <th>4</th>\n",
       "      <td>安阳县人民检察院指控：2014年4月27日上午11时许，宋某甲在安阳县吕村镇翟奇务村被告人梁...</td>\n",
       "      <td>{'relevant_articles': [234], 'accusation': ['故...</td>\n",
       "      <td>安阳县人民检察院指控2014年4月27日上午11时许，宋某甲在安阳县吕村镇翟奇务村被告人梁某...</td>\n",
       "      <td>安阳县,人民检察院,指控,2014,年,4,月,27,日,上午,11,时许,，,宋某,甲,在...</td>\n",
       "    </tr>\n",
       "  </tbody>\n",
       "</table>\n",
       "</div>"
      ],
      "text/plain": [
       "                                                fact  \\\n",
       "0  昌宁县人民检察院指控，2014年4月19日下午16时许，被告人段某驾拖车经过鸡飞乡澡塘街子，...   \n",
       "1  公诉机关指控,2015年11月10日晚9时许，被告人李某的妹妹李某某与被害人华某某在桦川县悦...   \n",
       "2  贵州省平坝县人民检察院指控：2014年4月9日下午，被告人王某丁与其堂哥王4某（另案处理）假...   \n",
       "3  经审理查明：2014年5月6日14时许，被告人叶某某驾车途径赤壁市赵李桥镇胜利街涵洞时，被在...   \n",
       "4  安阳县人民检察院指控：2014年4月27日上午11时许，宋某甲在安阳县吕村镇翟奇务村被告人梁...   \n",
       "\n",
       "                                                meta  \\\n",
       "0  {'relevant_articles': [234], 'accusation': ['故...   \n",
       "1  {'relevant_articles': [234], 'accusation': ['故...   \n",
       "2  {'relevant_articles': [292, 234], 'accusation'...   \n",
       "3  {'relevant_articles': [234], 'accusation': ['故...   \n",
       "4  {'relevant_articles': [234], 'accusation': ['故...   \n",
       "\n",
       "                                          text_clean  \\\n",
       "0  昌宁县人民检察院指控，2014年4月19日下午16时许，被告人段某驾拖车经过鸡飞乡澡塘街子，...   \n",
       "1  公诉机关指控,2015年11月10日晚9时许，被告人李某的妹妹李某某与被害人华某某在桦川县悦...   \n",
       "2  贵州省平坝县人民检察院指控2014年4月9日下午，被告人王某丁与其堂哥王4某另案处理假释驾驶...   \n",
       "3  经审理查明2014年5月6日14时许，被告人叶某某驾车途径赤壁市赵李桥镇胜利街涵洞时，被在此...   \n",
       "4  安阳县人民检察院指控2014年4月27日上午11时许，宋某甲在安阳县吕村镇翟奇务村被告人梁某...   \n",
       "\n",
       "                                          split_text  \n",
       "0  昌宁县,人民检察院,指控,，,2014,年,4,月,19,日,下午,16,时许,，,被告人,...  \n",
       "1  公诉,机关,指控,,,2015,年,11,月,10,日晚,9,时许,，,被告人,李某,的,妹...  \n",
       "2  贵州省,平坝县,人民检察院,指控,2014,年,4,月,9,日,下午,，,被告人,王某,丁,...  \n",
       "3  经,审理,查明,2014,年,5,月,6,日,14,时许,，,被告人,叶,某某,驾车,途径,...  \n",
       "4  安阳县,人民检察院,指控,2014,年,4,月,27,日,上午,11,时许,，,宋某,甲,在...  "
      ]
     },
     "execution_count": 49,
     "metadata": {},
     "output_type": "execute_result"
    }
   ],
   "source": [
    "df.head(5)"
   ]
  },
  {
   "cell_type": "markdown",
   "id": "fcd84fd5",
   "metadata": {},
   "source": [
    "### 文本熵"
   ]
  },
  {
   "cell_type": "code",
   "execution_count": 74,
   "id": "8419f052",
   "metadata": {},
   "outputs": [],
   "source": [
    "import collections  \n",
    "def cross_entropy(s):\n",
    "    count=[]\n",
    "    res=[]\n",
    "    word_counts = collections.Counter(s) \n",
    "    word_counts_top = word_counts.most_common(len(s))\n",
    "    for i in word_counts_top:\n",
    "        count.append(i[1])\n",
    "    for i in word_counts_top:\n",
    "        res.append(i[1]/(sum(count)))\n",
    "    return sum(-(res*np.log2(res)))\n",
    "df[\"cross_entropy\"]=df[\"split_text\"].apply(lambda x : cross_entropy(x))"
   ]
  },
  {
   "cell_type": "code",
   "execution_count": 76,
   "id": "f86d888f",
   "metadata": {},
   "outputs": [
    {
     "data": {
      "text/html": [
       "<div>\n",
       "<style scoped>\n",
       "    .dataframe tbody tr th:only-of-type {\n",
       "        vertical-align: middle;\n",
       "    }\n",
       "\n",
       "    .dataframe tbody tr th {\n",
       "        vertical-align: top;\n",
       "    }\n",
       "\n",
       "    .dataframe thead th {\n",
       "        text-align: right;\n",
       "    }\n",
       "</style>\n",
       "<table border=\"1\" class=\"dataframe\">\n",
       "  <thead>\n",
       "    <tr style=\"text-align: right;\">\n",
       "      <th></th>\n",
       "      <th>fact</th>\n",
       "      <th>meta</th>\n",
       "      <th>text_clean</th>\n",
       "      <th>split_text</th>\n",
       "      <th>cross_entropy</th>\n",
       "    </tr>\n",
       "  </thead>\n",
       "  <tbody>\n",
       "    <tr>\n",
       "      <th>0</th>\n",
       "      <td>昌宁县人民检察院指控，2014年4月19日下午16时许，被告人段某驾拖车经过鸡飞乡澡塘街子，...</td>\n",
       "      <td>{'relevant_articles': [234], 'accusation': ['故...</td>\n",
       "      <td>昌宁县人民检察院指控，2014年4月19日下午16时许，被告人段某驾拖车经过鸡飞乡澡塘街子，...</td>\n",
       "      <td>昌宁县,人民检察院,指控,，,2014,年,4,月,19,日,下午,16,时许,，,被告人,...</td>\n",
       "      <td>5.149301</td>\n",
       "    </tr>\n",
       "    <tr>\n",
       "      <th>1</th>\n",
       "      <td>公诉机关指控,2015年11月10日晚9时许，被告人李某的妹妹李某某与被害人华某某在桦川县悦...</td>\n",
       "      <td>{'relevant_articles': [234], 'accusation': ['故...</td>\n",
       "      <td>公诉机关指控,2015年11月10日晚9时许，被告人李某的妹妹李某某与被害人华某某在桦川县悦...</td>\n",
       "      <td>公诉,机关,指控,,,2015,年,11,月,10,日晚,9,时许,，,被告人,李某,的,妹...</td>\n",
       "      <td>4.834264</td>\n",
       "    </tr>\n",
       "    <tr>\n",
       "      <th>2</th>\n",
       "      <td>贵州省平坝县人民检察院指控：2014年4月9日下午，被告人王某丁与其堂哥王4某（另案处理）假...</td>\n",
       "      <td>{'relevant_articles': [292, 234], 'accusation'...</td>\n",
       "      <td>贵州省平坝县人民检察院指控2014年4月9日下午，被告人王某丁与其堂哥王4某另案处理假释驾驶...</td>\n",
       "      <td>贵州省,平坝县,人民检察院,指控,2014,年,4,月,9,日,下午,，,被告人,王某,丁,...</td>\n",
       "      <td>5.395380</td>\n",
       "    </tr>\n",
       "    <tr>\n",
       "      <th>3</th>\n",
       "      <td>经审理查明：2014年5月6日14时许，被告人叶某某驾车途径赤壁市赵李桥镇胜利街涵洞时，被在...</td>\n",
       "      <td>{'relevant_articles': [234], 'accusation': ['故...</td>\n",
       "      <td>经审理查明2014年5月6日14时许，被告人叶某某驾车途径赤壁市赵李桥镇胜利街涵洞时，被在此...</td>\n",
       "      <td>经,审理,查明,2014,年,5,月,6,日,14,时许,，,被告人,叶,某某,驾车,途径,...</td>\n",
       "      <td>5.193966</td>\n",
       "    </tr>\n",
       "    <tr>\n",
       "      <th>4</th>\n",
       "      <td>安阳县人民检察院指控：2014年4月27日上午11时许，宋某甲在安阳县吕村镇翟奇务村被告人梁...</td>\n",
       "      <td>{'relevant_articles': [234], 'accusation': ['故...</td>\n",
       "      <td>安阳县人民检察院指控2014年4月27日上午11时许，宋某甲在安阳县吕村镇翟奇务村被告人梁某...</td>\n",
       "      <td>安阳县,人民检察院,指控,2014,年,4,月,27,日,上午,11,时许,，,宋某,甲,在...</td>\n",
       "      <td>5.208188</td>\n",
       "    </tr>\n",
       "  </tbody>\n",
       "</table>\n",
       "</div>"
      ],
      "text/plain": [
       "                                                fact  \\\n",
       "0  昌宁县人民检察院指控，2014年4月19日下午16时许，被告人段某驾拖车经过鸡飞乡澡塘街子，...   \n",
       "1  公诉机关指控,2015年11月10日晚9时许，被告人李某的妹妹李某某与被害人华某某在桦川县悦...   \n",
       "2  贵州省平坝县人民检察院指控：2014年4月9日下午，被告人王某丁与其堂哥王4某（另案处理）假...   \n",
       "3  经审理查明：2014年5月6日14时许，被告人叶某某驾车途径赤壁市赵李桥镇胜利街涵洞时，被在...   \n",
       "4  安阳县人民检察院指控：2014年4月27日上午11时许，宋某甲在安阳县吕村镇翟奇务村被告人梁...   \n",
       "\n",
       "                                                meta  \\\n",
       "0  {'relevant_articles': [234], 'accusation': ['故...   \n",
       "1  {'relevant_articles': [234], 'accusation': ['故...   \n",
       "2  {'relevant_articles': [292, 234], 'accusation'...   \n",
       "3  {'relevant_articles': [234], 'accusation': ['故...   \n",
       "4  {'relevant_articles': [234], 'accusation': ['故...   \n",
       "\n",
       "                                          text_clean  \\\n",
       "0  昌宁县人民检察院指控，2014年4月19日下午16时许，被告人段某驾拖车经过鸡飞乡澡塘街子，...   \n",
       "1  公诉机关指控,2015年11月10日晚9时许，被告人李某的妹妹李某某与被害人华某某在桦川县悦...   \n",
       "2  贵州省平坝县人民检察院指控2014年4月9日下午，被告人王某丁与其堂哥王4某另案处理假释驾驶...   \n",
       "3  经审理查明2014年5月6日14时许，被告人叶某某驾车途径赤壁市赵李桥镇胜利街涵洞时，被在此...   \n",
       "4  安阳县人民检察院指控2014年4月27日上午11时许，宋某甲在安阳县吕村镇翟奇务村被告人梁某...   \n",
       "\n",
       "                                          split_text  cross_entropy  \n",
       "0  昌宁县,人民检察院,指控,，,2014,年,4,月,19,日,下午,16,时许,，,被告人,...       5.149301  \n",
       "1  公诉,机关,指控,,,2015,年,11,月,10,日晚,9,时许,，,被告人,李某,的,妹...       4.834264  \n",
       "2  贵州省,平坝县,人民检察院,指控,2014,年,4,月,9,日,下午,，,被告人,王某,丁,...       5.395380  \n",
       "3  经,审理,查明,2014,年,5,月,6,日,14,时许,，,被告人,叶,某某,驾车,途径,...       5.193966  \n",
       "4  安阳县,人民检察院,指控,2014,年,4,月,27,日,上午,11,时许,，,宋某,甲,在...       5.208188  "
      ]
     },
     "execution_count": 76,
     "metadata": {},
     "output_type": "execute_result"
    }
   ],
   "source": [
    "df.head(5)"
   ]
  }
 ],
 "metadata": {
  "kernelspec": {
   "display_name": "Python 3 (ipykernel)",
   "language": "python",
   "name": "python3"
  },
  "language_info": {
   "codemirror_mode": {
    "name": "ipython",
    "version": 3
   },
   "file_extension": ".py",
   "mimetype": "text/x-python",
   "name": "python",
   "nbconvert_exporter": "python",
   "pygments_lexer": "ipython3",
   "version": "3.9.7"
  }
 },
 "nbformat": 4,
 "nbformat_minor": 5
}
